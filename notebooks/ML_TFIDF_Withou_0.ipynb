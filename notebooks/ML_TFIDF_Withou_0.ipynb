{
 "cells": [
  {
   "cell_type": "markdown",
   "metadata": {},
   "source": [
    "# ML TFIDF WITHOUT CLASS 0"
   ]
  },
  {
   "cell_type": "code",
   "execution_count": 31,
   "metadata": {},
   "outputs": [],
   "source": [
    "#from frugal.data_preproc.data import load_and_split_data\n",
    "from frugal.evaluation import evaluate, concatenate_evaluations\n",
    "from sklearn.feature_extraction.text import CountVectorizer\n",
    "from sklearn.naive_bayes import MultinomialNB\n",
    "from datasets import load_dataset\n",
    "from frugal.config.environment import DATA_DIR\n",
    "import os\n",
    "import pandas as pd\n"
   ]
  },
  {
   "cell_type": "code",
   "execution_count": 32,
   "metadata": {},
   "outputs": [],
   "source": [
    "def load_datasets():\n",
    "    \"\"\"\n",
    "    Loads train and test datasets from Hugging Face and returns them as pandas DataFrames.\n",
    "    \"\"\"\n",
    "    train_dataset = pd.DataFrame(load_dataset('QuotaClimat/frugalaichallenge-text-train', split='train', cache_dir=DATA_DIR))\n",
    "    test_dataset = pd.DataFrame(load_dataset('QuotaClimat/frugalaichallenge-text-train', split='test', cache_dir=DATA_DIR))\n",
    "\n",
    "    print(\"✅ Train and test datasets successfully loaded from Hugging Face 🤗\")\n",
    "    return train_dataset, test_dataset\n"
   ]
  },
  {
   "cell_type": "code",
   "execution_count": 17,
   "metadata": {},
   "outputs": [],
   "source": [
    "def make_train_test_split(train_dataset, test_dataset):\n",
    "    \"\"\"\n",
    "    Splits datasets into features (quotes) and labels, returning separate DataFrames/Series.\n",
    "    \"\"\"\n",
    "    X_train = train_dataset[['quote']]\n",
    "    X_test = test_dataset[['quote']]\n",
    "    y_train = train_dataset['label']\n",
    "    y_test = test_dataset['label']\n",
    "\n",
    "    print(\"✅ Data successfully split into X and y for train and test sets\")\n",
    "    return X_train, X_test, y_train, y_test"
   ]
  },
  {
   "cell_type": "code",
   "execution_count": 67,
   "metadata": {},
   "outputs": [],
   "source": [
    "def load_and_split_data_withou_class_n(filtered_class : str):\n",
    "    \"\"\"\n",
    "    Loads datasets from source withou a certain class \"filter_class\" and splits them into features and labels for training and testing.\n",
    "    \"\"\"\n",
    "    train_dataset, test_dataset = load_datasets()\n",
    "\n",
    "    train_dataset_filtered = train_dataset[train_dataset['label']!=filtered_class]\n",
    "    test_dataset_filtered = test_dataset[test_dataset['label']!=filtered_class]\n",
    "    X_train_filtered, X_test_filtered, y_train_filtered, y_test_filtered = make_train_test_split(train_dataset_filtered,test_dataset_filtered)\n",
    "    return X_train_filtered, X_test_filtered, y_train_filtered, y_test_filtered\n"
   ]
  },
  {
   "cell_type": "code",
   "execution_count": 68,
   "metadata": {},
   "outputs": [
    {
     "name": "stdout",
     "output_type": "stream",
     "text": [
      "✅ Train and test datasets successfully loaded from Hugging Face 🤗\n",
      "✅ Data successfully split into X and y for train and test sets\n"
     ]
    },
    {
     "data": {
      "text/plain": [
       "label\n",
       "5_science_unreliable               160\n",
       "4_solutions_harmful_unnecessary    160\n",
       "1_not_happening                    154\n",
       "6_proponents_biased                139\n",
       "2_not_human                        137\n",
       "3_not_bad                           97\n",
       "7_fossil_fuels_needed               65\n",
       "Name: count, dtype: int64"
      ]
     },
     "execution_count": 68,
     "metadata": {},
     "output_type": "execute_result"
    }
   ],
   "source": [
    "load_and_split_data_withou_class_n(\"0_not_relevant\")[3].value_counts()"
   ]
  },
  {
   "cell_type": "code",
   "execution_count": 14,
   "metadata": {},
   "outputs": [
    {
     "name": "stdout",
     "output_type": "stream",
     "text": [
      "✅ Train and test datasets successfully loaded from Hugging Face 🤗\n",
      "✅ Data successfully split into X and y for train and test sets\n"
     ]
    },
    {
     "data": {
      "text/plain": [
       "' y_pred = dummy_model(X_train, X_test, y_train)\\n# Get model performance\\nevaluate(model_name, y_test, y_pred)\\n# Concatenate all evaluations\\nconcatenate_evaluations() '"
      ]
     },
     "execution_count": 14,
     "metadata": {},
     "output_type": "execute_result"
    }
   ],
   "source": [
    "\n",
    "\"\"\" # Get the directory of the current script\n",
    "script_directory = os.path.dirname(os.path.abspath(__file__))\n",
    "# Get the name of the folder\n",
    "model_name = os.path.basename(script_directory)\n",
    "print(model_name) \"\"\"\n",
    "\n",
    "# Load datasets and make data lists\n",
    "X_train, X_test, y_train, y_test = load_and_split_data()\n",
    "# Train and predict with model\n",
    "\"\"\" y_pred = dummy_model(X_train, X_test, y_train)\n",
    "# Get model performance\n",
    "evaluate(model_name, y_test, y_pred)\n",
    "# Concatenate all evaluations\n",
    "concatenate_evaluations() \"\"\""
   ]
  },
  {
   "cell_type": "code",
   "execution_count": 15,
   "metadata": {},
   "outputs": [
    {
     "data": {
      "text/html": [
       "<div>\n",
       "<style scoped>\n",
       "    .dataframe tbody tr th:only-of-type {\n",
       "        vertical-align: middle;\n",
       "    }\n",
       "\n",
       "    .dataframe tbody tr th {\n",
       "        vertical-align: top;\n",
       "    }\n",
       "\n",
       "    .dataframe thead th {\n",
       "        text-align: right;\n",
       "    }\n",
       "</style>\n",
       "<table border=\"1\" class=\"dataframe\">\n",
       "  <thead>\n",
       "    <tr style=\"text-align: right;\">\n",
       "      <th></th>\n",
       "      <th>quote</th>\n",
       "    </tr>\n",
       "  </thead>\n",
       "  <tbody>\n",
       "    <tr>\n",
       "      <th>0</th>\n",
       "      <td>Interesting to note that Oklahoma minimum temp...</td>\n",
       "    </tr>\n",
       "    <tr>\n",
       "      <th>1</th>\n",
       "      <td>REPORT ON GEO ENGINEERING A.k.a. man-made FAKE...</td>\n",
       "    </tr>\n",
       "    <tr>\n",
       "      <th>2</th>\n",
       "      <td>To realize, yes, climate change is a real prob...</td>\n",
       "    </tr>\n",
       "    <tr>\n",
       "      <th>3</th>\n",
       "      <td>The fluctuations in the carbon dioxide concent...</td>\n",
       "    </tr>\n",
       "    <tr>\n",
       "      <th>4</th>\n",
       "      <td>I know the comments that were made after that ...</td>\n",
       "    </tr>\n",
       "    <tr>\n",
       "      <th>...</th>\n",
       "      <td>...</td>\n",
       "    </tr>\n",
       "    <tr>\n",
       "      <th>4867</th>\n",
       "      <td>The morally superior choice is for people to b...</td>\n",
       "    </tr>\n",
       "    <tr>\n",
       "      <th>4868</th>\n",
       "      <td>The climate is changing. No one is denying cli...</td>\n",
       "    </tr>\n",
       "    <tr>\n",
       "      <th>4869</th>\n",
       "      <td>It will be up to 15 years before it is possibl...</td>\n",
       "    </tr>\n",
       "    <tr>\n",
       "      <th>4870</th>\n",
       "      <td>Global warming is real, but a problem, not the...</td>\n",
       "    </tr>\n",
       "    <tr>\n",
       "      <th>4871</th>\n",
       "      <td>Can any of the areas of the science now be con...</td>\n",
       "    </tr>\n",
       "  </tbody>\n",
       "</table>\n",
       "<p>4872 rows × 1 columns</p>\n",
       "</div>"
      ],
      "text/plain": [
       "                                                  quote\n",
       "0     Interesting to note that Oklahoma minimum temp...\n",
       "1     REPORT ON GEO ENGINEERING A.k.a. man-made FAKE...\n",
       "2     To realize, yes, climate change is a real prob...\n",
       "3     The fluctuations in the carbon dioxide concent...\n",
       "4     I know the comments that were made after that ...\n",
       "...                                                 ...\n",
       "4867  The morally superior choice is for people to b...\n",
       "4868  The climate is changing. No one is denying cli...\n",
       "4869  It will be up to 15 years before it is possibl...\n",
       "4870  Global warming is real, but a problem, not the...\n",
       "4871  Can any of the areas of the science now be con...\n",
       "\n",
       "[4872 rows x 1 columns]"
      ]
     },
     "execution_count": 15,
     "metadata": {},
     "output_type": "execute_result"
    }
   ],
   "source": [
    "X_train"
   ]
  },
  {
   "cell_type": "code",
   "execution_count": null,
   "metadata": {},
   "outputs": [],
   "source": [
    "def tfidf(X_train, X_test, y_train) :\n",
    "    # Vectorisation\n",
    "    vectorizer = CountVectorizer()\n",
    "    X_train_vec = vectorizer.fit_transform(X_train)\n",
    "    X_test_vec = vectorizer.transform(X_test)\n",
    "    # Training\n",
    "    model = MultinomialNB()\n",
    "    model.fit(X_train_vec, y_train)\n",
    "    # Prediction\n",
    "    y_pred = model.predict(X_test_vec)\n",
    "    return y_pred"
   ]
  }
 ],
 "metadata": {
  "kernelspec": {
   "display_name": "frugal",
   "language": "python",
   "name": "python3"
  },
  "language_info": {
   "codemirror_mode": {
    "name": "ipython",
    "version": 3
   },
   "file_extension": ".py",
   "mimetype": "text/x-python",
   "name": "python",
   "nbconvert_exporter": "python",
   "pygments_lexer": "ipython3",
   "version": "3.10.6"
  }
 },
 "nbformat": 4,
 "nbformat_minor": 2
}
