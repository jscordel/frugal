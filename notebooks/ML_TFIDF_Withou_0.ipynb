{
 "cells": [
  {
   "cell_type": "markdown",
   "metadata": {},
   "source": [
    "# ML TFIDF WITHOUT CLASS 0"
   ]
  },
  {
   "cell_type": "code",
   "execution_count": null,
   "metadata": {},
   "outputs": [],
   "source": [
    "from frugal.data_preproc.data import load_and_split_data , load_datasets ,make_train_test_split\n",
    "from frugal.evaluation import evaluate, concatenate_evaluations , classification_report\n",
    "from sklearn.feature_extraction.text import CountVectorizer\n",
    "from sklearn.feature_extraction.text import TfidfVectorizer\n",
    "from sklearn.naive_bayes import MultinomialNB\n",
    "from datasets import load_dataset\n",
    "from frugal.config.environment import DATA_DIR\n",
    "import os\n",
    "import pandas as pd\n"
   ]
  },
  {
   "cell_type": "code",
   "execution_count": 2,
   "metadata": {},
   "outputs": [],
   "source": [
    "def load_and_split_data_withou_class_n(filtered_class : str):\n",
    "    \"\"\"\n",
    "    Loads datasets from source withou a certain class \"filter_class\" and splits them into features and labels for training and testing.\n",
    "    \"\"\"\n",
    "    train_dataset, test_dataset = load_datasets()\n",
    "\n",
    "    train_dataset_filtered = train_dataset[train_dataset['label']!=filtered_class]\n",
    "    test_dataset_filtered = test_dataset[test_dataset['label']!=filtered_class]\n",
    "    X_train_filtered, X_test_filtered, y_train_filtered, y_test_filtered = make_train_test_split(train_dataset_filtered,test_dataset_filtered)\n",
    "    return X_train_filtered, X_test_filtered, y_train_filtered, y_test_filtered\n"
   ]
  },
  {
   "cell_type": "code",
   "execution_count": 3,
   "metadata": {},
   "outputs": [
    {
     "name": "stdout",
     "output_type": "stream",
     "text": [
      "✅ Train and test datasets successfully loaded from Hugging Face 🤗\n",
      "✅ Data successfully split into X and y for train and test sets\n"
     ]
    },
    {
     "data": {
      "text/plain": [
       "label\n",
       "5_science_unreliable               160\n",
       "4_solutions_harmful_unnecessary    160\n",
       "1_not_happening                    154\n",
       "6_proponents_biased                139\n",
       "2_not_human                        137\n",
       "3_not_bad                           97\n",
       "7_fossil_fuels_needed               65\n",
       "Name: count, dtype: int64"
      ]
     },
     "execution_count": 3,
     "metadata": {},
     "output_type": "execute_result"
    }
   ],
   "source": [
    "load_and_split_data_withou_class_n(\"0_not_relevant\")[3].value_counts()"
   ]
  },
  {
   "cell_type": "code",
   "execution_count": 36,
   "metadata": {},
   "outputs": [
    {
     "name": "stdout",
     "output_type": "stream",
     "text": [
      "✅ Train and test datasets successfully loaded from Hugging Face 🤗\n",
      "✅ Data successfully split into X and y for train and test sets\n"
     ]
    }
   ],
   "source": [
    "X_train, X_test, y_train , y_test = load_and_split_data_withou_class_n(\"0_not_relevant\")"
   ]
  },
  {
   "cell_type": "code",
   "execution_count": 89,
   "metadata": {},
   "outputs": [],
   "source": [
    "def pre_clean_data(data : pd.DataFrame):\n",
    "    def clean_one_quote(quote):\n",
    "        # Pre-cleaning\n",
    "        text_cleaned = quote.lower()\n",
    "        text_cleaned = ''.join(char for char in text_cleaned if not char.isdigit())\n",
    "        \"\"\" text = quote.lower()\n",
    "        text = ''.join(char for char in text if not char.isdigit())\n",
    "        for punctuation in string.punctuation:\n",
    "            text = text.replace(punctuation, '')\n",
    "        text = text.strip() \"\"\"\n",
    "        return text_cleaned\n",
    "\n",
    "    return data['quote'].map(clean_one_quote)\n"
   ]
  },
  {
   "cell_type": "code",
   "execution_count": null,
   "metadata": {},
   "outputs": [],
   "source": [
    "texts = pd.DataFrame([\"Alex is the best data scientist &à HAHA @@ ^^\",\"Le Wagon 1 des 10 est &ç-!!!// SUPER\"], columns=[\"quote\"])"
   ]
  },
  {
   "cell_type": "code",
   "execution_count": 74,
   "metadata": {},
   "outputs": [
    {
     "data": {
      "text/html": [
       "<div>\n",
       "<style scoped>\n",
       "    .dataframe tbody tr th:only-of-type {\n",
       "        vertical-align: middle;\n",
       "    }\n",
       "\n",
       "    .dataframe tbody tr th {\n",
       "        vertical-align: top;\n",
       "    }\n",
       "\n",
       "    .dataframe thead th {\n",
       "        text-align: right;\n",
       "    }\n",
       "</style>\n",
       "<table border=\"1\" class=\"dataframe\">\n",
       "  <thead>\n",
       "    <tr style=\"text-align: right;\">\n",
       "      <th></th>\n",
       "      <th>quote</th>\n",
       "    </tr>\n",
       "  </thead>\n",
       "  <tbody>\n",
       "    <tr>\n",
       "      <th>0</th>\n",
       "      <td>Alex is the best data scientist &amp;à HAHA @@ ^^</td>\n",
       "    </tr>\n",
       "    <tr>\n",
       "      <th>1</th>\n",
       "      <td>Le Wagon est &amp;ç-!!!// SUPER</td>\n",
       "    </tr>\n",
       "  </tbody>\n",
       "</table>\n",
       "</div>"
      ],
      "text/plain": [
       "                                           quote\n",
       "0  Alex is the best data scientist &à HAHA @@ ^^\n",
       "1                    Le Wagon est &ç-!!!// SUPER"
      ]
     },
     "execution_count": 74,
     "metadata": {},
     "output_type": "execute_result"
    }
   ],
   "source": [
    "texts"
   ]
  },
  {
   "cell_type": "code",
   "execution_count": 90,
   "metadata": {},
   "outputs": [
    {
     "data": {
      "text/plain": [
       "0    alex is the best data scientist &à haha @@ ^^\n",
       "1                      le wagon est &ç-!!!// super\n",
       "Name: quote, dtype: object"
      ]
     },
     "execution_count": 90,
     "metadata": {},
     "output_type": "execute_result"
    }
   ],
   "source": [
    "pre_clean_data(texts)"
   ]
  },
  {
   "cell_type": "code",
   "execution_count": 57,
   "metadata": {},
   "outputs": [],
   "source": [
    "def tfidf(X_train, X_test, y_train) :\n",
    "    # Vectorisation\n",
    "    vectorizer = TfidfVectorizer()\n",
    "    X_train_vec = vectorizer.fit_transform(X_train.quote)\n",
    "    X_test_vec = vectorizer.transform(X_test.quote)\n",
    "    # Training\n",
    "    model = MultinomialNB()\n",
    "    model.fit(X_train_vec, y_train)\n",
    "    # Prediction\n",
    "    y_pred = model.predict(X_test_vec)\n",
    "    return y_pred"
   ]
  },
  {
   "cell_type": "code",
   "execution_count": 59,
   "metadata": {},
   "outputs": [],
   "source": [
    "y_pred = tfidf(X_train, X_test, y_train)"
   ]
  },
  {
   "cell_type": "code",
   "execution_count": 65,
   "metadata": {},
   "outputs": [
    {
     "name": "stderr",
     "output_type": "stream",
     "text": [
      "/Users/datascience/.pyenv/versions/3.10.6/envs/frugal/lib/python3.10/site-packages/sklearn/metrics/_classification.py:1565: UndefinedMetricWarning: Precision is ill-defined and being set to 0.0 in labels with no predicted samples. Use `zero_division` parameter to control this behavior.\n",
      "  _warn_prf(average, modifier, f\"{metric.capitalize()} is\", len(result))\n",
      "/Users/datascience/.pyenv/versions/3.10.6/envs/frugal/lib/python3.10/site-packages/sklearn/metrics/_classification.py:1565: UndefinedMetricWarning: Precision is ill-defined and being set to 0.0 in labels with no predicted samples. Use `zero_division` parameter to control this behavior.\n",
      "  _warn_prf(average, modifier, f\"{metric.capitalize()} is\", len(result))\n",
      "/Users/datascience/.pyenv/versions/3.10.6/envs/frugal/lib/python3.10/site-packages/sklearn/metrics/_classification.py:1565: UndefinedMetricWarning: Precision is ill-defined and being set to 0.0 in labels with no predicted samples. Use `zero_division` parameter to control this behavior.\n",
      "  _warn_prf(average, modifier, f\"{metric.capitalize()} is\", len(result))\n"
     ]
    },
    {
     "data": {
      "text/plain": [
       "'                                 precision    recall  f1-score   support\\n\\n                1_not_happening       0.73      0.69      0.71       154\\n                    2_not_human       0.56      0.72      0.63       137\\n                      3_not_bad       1.00      0.03      0.06        97\\n4_solutions_harmful_unnecessary       0.57      0.82      0.67       160\\n           5_science_unreliable       0.48      0.70      0.57       160\\n            6_proponents_biased       0.71      0.64      0.67       139\\n          7_fossil_fuels_needed       0.00      0.00      0.00        65\\n\\n                       accuracy                           0.59       912\\n                      macro avg       0.58      0.52      0.47       912\\n                   weighted avg       0.61      0.59      0.54       912\\n'"
      ]
     },
     "execution_count": 65,
     "metadata": {},
     "output_type": "execute_result"
    }
   ],
   "source": [
    "# Get model performance\n",
    "classification_report(y_test, y_pred)"
   ]
  },
  {
   "cell_type": "code",
   "execution_count": null,
   "metadata": {},
   "outputs": [],
   "source": []
  }
 ],
 "metadata": {
  "kernelspec": {
   "display_name": "frugal",
   "language": "python",
   "name": "python3"
  },
  "language_info": {
   "codemirror_mode": {
    "name": "ipython",
    "version": 3
   },
   "file_extension": ".py",
   "mimetype": "text/x-python",
   "name": "python",
   "nbconvert_exporter": "python",
   "pygments_lexer": "ipython3",
   "version": "3.10.6"
  }
 },
 "nbformat": 4,
 "nbformat_minor": 2
}
